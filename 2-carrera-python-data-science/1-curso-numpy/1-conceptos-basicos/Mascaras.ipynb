{
 "cells": [
  {
   "cell_type": "code",
   "execution_count": 2,
   "id": "6e0e8af4-470d-456c-bd69-e3106408e64e",
   "metadata": {},
   "outputs": [],
   "source": [
    "import numpy as np\n",
    "import numpy.ma as ma"
   ]
  },
  {
   "cell_type": "code",
   "execution_count": 3,
   "id": "9d6014d3-e492-4478-98d8-ee896d284887",
   "metadata": {},
   "outputs": [
    {
     "data": {
      "text/plain": [
       "masked_array(data=[1, 2, 3, --, 4],\n",
       "             mask=[False, False, False,  True, False],\n",
       "       fill_value=999999)"
      ]
     },
     "execution_count": 3,
     "metadata": {},
     "output_type": "execute_result"
    }
   ],
   "source": [
    "x = np.array([1,2,3,-1,4])\n",
    "mask_array = ma.masked_array(x, mask = [0,0,0,1,0])\n",
    "mask_array"
   ]
  },
  {
   "cell_type": "code",
   "execution_count": 4,
   "id": "9ea5b4b5-8ce6-4d53-b7e8-556446d21773",
   "metadata": {},
   "outputs": [
    {
     "data": {
      "text/plain": [
       "array([1, 2, 3, 4])"
      ]
     },
     "execution_count": 4,
     "metadata": {},
     "output_type": "execute_result"
    }
   ],
   "source": [
    "mask_array.compressed()"
   ]
  },
  {
   "cell_type": "code",
   "execution_count": 5,
   "id": "d792b4e4-5936-4998-91bf-2bc52c8a547b",
   "metadata": {},
   "outputs": [
    {
     "data": {
      "text/plain": [
       "False"
      ]
     },
     "execution_count": 5,
     "metadata": {},
     "output_type": "execute_result"
    }
   ],
   "source": [
    "x[3] is ma.masked"
   ]
  },
  {
   "cell_type": "code",
   "execution_count": 6,
   "id": "8f8305d7-a507-4625-bd64-05d037ef5123",
   "metadata": {},
   "outputs": [
    {
     "data": {
      "text/plain": [
       "array([1, 2, 3, 0, 4])"
      ]
     },
     "execution_count": 6,
     "metadata": {},
     "output_type": "execute_result"
    }
   ],
   "source": [
    "mask_array.filled(0)"
   ]
  },
  {
   "cell_type": "code",
   "execution_count": 7,
   "id": "cedd3e05-0a00-47de-bae8-1b14902991d0",
   "metadata": {},
   "outputs": [
    {
     "data": {
      "text/plain": [
       "True"
      ]
     },
     "execution_count": 7,
     "metadata": {},
     "output_type": "execute_result"
    }
   ],
   "source": [
    "mask_array[3] is ma.masked"
   ]
  },
  {
   "cell_type": "code",
   "execution_count": 8,
   "id": "0eb7f75f-0c02-455c-b9b6-d1ed3fef6c31",
   "metadata": {},
   "outputs": [
    {
     "data": {
      "text/plain": [
       "masked_array(data=[1, --, --, -1, --],\n",
       "             mask=[False,  True,  True, False,  True],\n",
       "       fill_value=999999)"
      ]
     },
     "execution_count": 8,
     "metadata": {},
     "output_type": "execute_result"
    }
   ],
   "source": [
    "ma.masked_inside(x,2,4)"
   ]
  }
 ],
 "metadata": {
  "kernelspec": {
   "display_name": "Python 3 (ipykernel)",
   "language": "python",
   "name": "python3"
  },
  "language_info": {
   "codemirror_mode": {
    "name": "ipython",
    "version": 3
   },
   "file_extension": ".py",
   "mimetype": "text/x-python",
   "name": "python",
   "nbconvert_exporter": "python",
   "pygments_lexer": "ipython3",
   "version": "3.10.10"
  }
 },
 "nbformat": 4,
 "nbformat_minor": 5
}
