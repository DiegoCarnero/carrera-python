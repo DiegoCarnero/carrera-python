{
 "cells": [
  {
   "cell_type": "markdown",
   "id": "0315b9d9-cc18-4626-a01c-ac25f6d80a0e",
   "metadata": {},
   "source": [
    "### Tarea 1\n",
    "POO:\n",
    "- Creación de una Clase que exija más de dos valores (Ej: name, age, etc) y con algún método (función).\n",
    "- Crear 3 objetos de esa clase con los datos exigidos.\n",
    "- Aplicar un método (función dentro de la clase) a los 3 objetos creados.\n",
    "- Crear dos clases que hereden los atributos de la clase padre pero que indiquen dos “grupos” diferentes. Añadir un método que sobrescriba alguno de los métodos de la clase padre."
   ]
  },
  {
   "cell_type": "code",
   "execution_count": 10,
   "id": "2a50a77b-e89a-46f1-92cc-e36b0266894b",
   "metadata": {},
   "outputs": [],
   "source": [
    "class Vehiculo():\n",
    "    def __init__(self, marca, modelo, matricula):\n",
    "        self.marca = marca\n",
    "        self.modelo = modelo\n",
    "        self.kilometraje = 0\n",
    "        self.combustible = 0\n",
    "    def anadir_km(self, km):\n",
    "        if self.combustible > 0:\n",
    "            self.kilometraje += km\n",
    "            self.combustible -= km*0.3\n",
    "            if self.combustible < 0:\n",
    "               self.combustible = 0\n",
    "        else:\n",
    "            print(\"Sin combustible\")\n",
    "    def repostar(self):\n",
    "        self.combustible = 65"
   ]
  },
  {
   "cell_type": "code",
   "execution_count": 11,
   "id": "212fd918-b1c2-4203-ac1f-da623a954fb3",
   "metadata": {},
   "outputs": [],
   "source": [
    "v1 = Vehiculo(\"Ford\", \"Focus\", \"8172LJV\")\n",
    "v2 = Vehiculo(\"Lancia\", \"Delta\", \"1204AN\")\n",
    "v3 = Vehiculo(\"Citroen\", \"C3\", \"9234KNV\")"
   ]
  },
  {
   "cell_type": "code",
   "execution_count": 13,
   "id": "af8cbd38-c0dc-44c8-8519-d78da5471ba0",
   "metadata": {},
   "outputs": [
    {
     "name": "stdout",
     "output_type": "stream",
     "text": [
      "Sin combustible\n"
     ]
    }
   ],
   "source": [
    "v1.anadir_km(10.0)\n",
    "v2.repostar()\n",
    "v3.repostar()\n",
    "v3.anadir_km(15)"
   ]
  },
  {
   "cell_type": "code",
   "execution_count": 15,
   "id": "be6962d9-21db-4411-9e56-7bee4f744997",
   "metadata": {},
   "outputs": [],
   "source": [
    "class Camion(Vehiculo):\n",
    "    def repostart(self):\n",
    "        self.combustible = 180\n",
    "class Rally(Vehiculo):\n",
    "    def anadir_km(self, km):\n",
    "        if self.combustible > 0:\n",
    "            self.kilometraje += km\n",
    "            self.combustible -= km * 2"
   ]
  },
  {
   "cell_type": "code",
   "execution_count": 18,
   "id": "885dc040-9d52-496e-adb1-f7dbe8ebe8b5",
   "metadata": {},
   "outputs": [
    {
     "data": {
      "text/plain": [
       "35"
      ]
     },
     "execution_count": 18,
     "metadata": {},
     "output_type": "execute_result"
    }
   ],
   "source": [
    "r1 = Rally(\"Lancia\", \"Delta\", \"1204AN\")\n",
    "r1.repostar()\n",
    "r1.anadir_km(15)\n",
    "r1.combustible"
   ]
  },
  {
   "cell_type": "markdown",
   "id": "afeb117f-f9f2-4127-9ee1-6bcb8e637798",
   "metadata": {},
   "source": [
    "Bases de datos:\n",
    "    \n",
    "- Creación de una base de datos relacional.\n",
    "- Rellenarla con 3 elementos concretos (datos en las clases que forman la tabla).\n",
    "- Hacer una consulta en ella (query)."
   ]
  },
  {
   "cell_type": "code",
   "execution_count": 31,
   "id": "a921139f-40ef-4068-91e7-96483da11fd7",
   "metadata": {},
   "outputs": [],
   "source": [
    "from sqlalchemy import create_engine\n",
    "motor = create_engine('sqlite:///ejers.db')\n",
    "conex = motor.connect()\n",
    "\n",
    "from sqlalchemy.orm import sessionmaker\n",
    "Session = sessionmaker(bind=motor)\n",
    "session = Session()"
   ]
  },
  {
   "cell_type": "code",
   "execution_count": 32,
   "id": "f4faa922-dc90-48d4-a48b-7aad0ea4dfe3",
   "metadata": {},
   "outputs": [],
   "source": [
    "from sqlalchemy.ext.declarative import declarative_base\n",
    "class_base = declarative_base(bind=motor) \n",
    "#Borrar tablas de mi base de datos\n",
    "class_base.metadata.drop_all(motor) "
   ]
  },
  {
   "cell_type": "code",
   "execution_count": 33,
   "id": "7938ccd0-ae58-46b1-8538-2e9eafe7e81d",
   "metadata": {},
   "outputs": [],
   "source": [
    "from sqlalchemy import Column, DateTime, ForeignKey, Integer, NVARCHAR, Numeric, Sequence\n",
    "from sqlalchemy.orm import relationship\n",
    "\n",
    "class Vehiculo(class_base):\n",
    "    __tablename__ = \"vehiculos\"\n",
    "    \n",
    "    Matricula = Column(NVARCHAR(7), primary_key=True)\n",
    "    Marca = Column(NVARCHAR(20))\n",
    "    Kilometraje = Column(Numeric)"
   ]
  },
  {
   "cell_type": "code",
   "execution_count": 34,
   "id": "de1dc7c8-5a4e-4a2c-81aa-f01bc51f46b5",
   "metadata": {},
   "outputs": [],
   "source": [
    "class_base.metadata.create_all(motor)"
   ]
  },
  {
   "cell_type": "code",
   "execution_count": 35,
   "id": "6ce8a09f-1831-4912-9958-31d97e6202a7",
   "metadata": {},
   "outputs": [],
   "source": [
    "v1 = Vehiculo(\n",
    "    Matricula = \"8172LJV\",\n",
    "    Marca = 'Ford',\n",
    "    Kilometraje = 200\n",
    ")\n",
    "v2 = Vehiculo(\n",
    "    Matricula = \"1204AN\",\n",
    "    Marca = 'Lancia',\n",
    "    Kilometraje = 0\n",
    ")\n",
    "v3 = Vehiculo(\n",
    "    Matricula = \"9234KNV\",\n",
    "    Marca = 'Citroen',\n",
    "    Kilometraje = 12\n",
    ")\n",
    "\n",
    "session.add(v1)\n",
    "session.add(v2)\n",
    "session.add(v3)\n",
    "session.commit()"
   ]
  },
  {
   "cell_type": "code",
   "execution_count": 38,
   "id": "16d43f8f-b6b4-4c7e-a0a0-98a3f6adecf2",
   "metadata": {},
   "outputs": [
    {
     "data": {
      "text/html": [
       "<div>\n",
       "<style scoped>\n",
       "    .dataframe tbody tr th:only-of-type {\n",
       "        vertical-align: middle;\n",
       "    }\n",
       "\n",
       "    .dataframe tbody tr th {\n",
       "        vertical-align: top;\n",
       "    }\n",
       "\n",
       "    .dataframe thead th {\n",
       "        text-align: right;\n",
       "    }\n",
       "</style>\n",
       "<table border=\"1\" class=\"dataframe\">\n",
       "  <thead>\n",
       "    <tr style=\"text-align: right;\">\n",
       "      <th></th>\n",
       "      <th>Matricula</th>\n",
       "      <th>Marca</th>\n",
       "      <th>Kilometraje</th>\n",
       "    </tr>\n",
       "  </thead>\n",
       "  <tbody>\n",
       "    <tr>\n",
       "      <th>0</th>\n",
       "      <td>8172LJV</td>\n",
       "      <td>Ford</td>\n",
       "      <td>200</td>\n",
       "    </tr>\n",
       "    <tr>\n",
       "      <th>1</th>\n",
       "      <td>9234KNV</td>\n",
       "      <td>Citroen</td>\n",
       "      <td>12</td>\n",
       "    </tr>\n",
       "  </tbody>\n",
       "</table>\n",
       "</div>"
      ],
      "text/plain": [
       "  Matricula    Marca  Kilometraje\n",
       "0   8172LJV     Ford          200\n",
       "1   9234KNV  Citroen           12"
      ]
     },
     "metadata": {},
     "output_type": "display_data"
    }
   ],
   "source": [
    "from sqlalchemy.sql import text\n",
    "import pandas as pd\n",
    "s = text(\n",
    "     'SELECT * FROM vehiculos WHERE Matricula like \"%V\"'\n",
    "    )\n",
    "\n",
    "df = pd.read_sql(s, session.bind)\n",
    "df"
   ]
  },
  {
   "cell_type": "code",
   "execution_count": null,
   "id": "e9971f7a-4c11-4258-a74a-872ef179d594",
   "metadata": {},
   "outputs": [],
   "source": []
  }
 ],
 "metadata": {
  "kernelspec": {
   "display_name": "Python 3 (ipykernel)",
   "language": "python",
   "name": "python3"
  },
  "language_info": {
   "codemirror_mode": {
    "name": "ipython",
    "version": 3
   },
   "file_extension": ".py",
   "mimetype": "text/x-python",
   "name": "python",
   "nbconvert_exporter": "python",
   "pygments_lexer": "ipython3",
   "version": "3.10.10"
  }
 },
 "nbformat": 4,
 "nbformat_minor": 5
}
