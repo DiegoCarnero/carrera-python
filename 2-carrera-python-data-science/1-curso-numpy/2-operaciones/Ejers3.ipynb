{
 "cells": [
  {
   "cell_type": "code",
   "execution_count": 1,
   "id": "66dae824-46b5-47d7-a1e9-6d342bb88b29",
   "metadata": {},
   "outputs": [],
   "source": [
    "import numpy as np"
   ]
  },
  {
   "cell_type": "markdown",
   "id": "d8dc4000-bbfd-41ae-b233-0018012e05c2",
   "metadata": {},
   "source": [
    "Ejercicio 1\n",
    "\n",
    "Usando el array que encontráis a continuación.\n",
    "\n",
    "¿Hay algún valor múltiplo de 7?\n",
    "\n",
    "Devuelve un array con todos los nº menores de 40 o que sean múltiplos de 7"
   ]
  },
  {
   "cell_type": "code",
   "execution_count": 2,
   "id": "cc07a2d2-2235-4fc0-8f64-88bc172658d8",
   "metadata": {},
   "outputs": [
    {
     "data": {
      "text/plain": [
       "True"
      ]
     },
     "execution_count": 2,
     "metadata": {},
     "output_type": "execute_result"
    }
   ],
   "source": [
    "a = np.array([2, 5, 4, 2, 49, 34, 59, 21, 45, 6, 105])\n",
    "np.any(a % 7 == 0)"
   ]
  },
  {
   "cell_type": "code",
   "execution_count": 8,
   "id": "eafb87ae-e570-41c0-8127-54b04c84aca0",
   "metadata": {},
   "outputs": [
    {
     "data": {
      "text/plain": [
       "array([  2,   5,   4,   2,  49,  34,  21,   6, 105])"
      ]
     },
     "execution_count": 8,
     "metadata": {},
     "output_type": "execute_result"
    }
   ],
   "source": [
    "arr = a[np.logical_or(a<40,a % 7 == 0)]\n",
    "arr"
   ]
  },
  {
   "cell_type": "markdown",
   "id": "12590c48-fc3c-4124-9489-14a7b9f0648b",
   "metadata": {},
   "source": [
    "Ejercicio 2\n",
    "\n",
    "Usando el array resultado del ejercicio anterior, calcula:\n",
    "\n",
    "El producto de todos sus valores\n",
    "\n",
    "Convierte el array el una matriz 3x3 y realiza la suma por filas\n",
    "\n",
    "Calcula el log10 de cada elemento de la matriz que acabas de crear"
   ]
  },
  {
   "cell_type": "code",
   "execution_count": 9,
   "id": "fc3ee2e8-02d3-4262-8597-7dfcb614eeac",
   "metadata": {},
   "outputs": [
    {
     "data": {
      "text/plain": [
       "1763294400"
      ]
     },
     "execution_count": 9,
     "metadata": {},
     "output_type": "execute_result"
    }
   ],
   "source": [
    "np.prod(arr)"
   ]
  },
  {
   "cell_type": "code",
   "execution_count": 12,
   "id": "4bafb525-2355-42cf-9ffe-f9ba28ef01ec",
   "metadata": {},
   "outputs": [
    {
     "data": {
      "text/plain": [
       "array([ 11,  85, 132])"
      ]
     },
     "execution_count": 12,
     "metadata": {},
     "output_type": "execute_result"
    }
   ],
   "source": [
    "b = arr.reshape(3,3)\n",
    "np.sum(b, axis=1)"
   ]
  },
  {
   "cell_type": "code",
   "execution_count": 13,
   "id": "f7b3751f-c77e-45e3-ab06-cb4e98417a34",
   "metadata": {},
   "outputs": [
    {
     "data": {
      "text/plain": [
       "array([[0.30103   , 0.69897   , 0.60205999],\n",
       "       [0.30103   , 1.69019608, 1.53147892],\n",
       "       [1.32221929, 0.77815125, 2.0211893 ]])"
      ]
     },
     "execution_count": 13,
     "metadata": {},
     "output_type": "execute_result"
    }
   ],
   "source": [
    "np.log10(b)"
   ]
  },
  {
   "cell_type": "markdown",
   "id": "78d5bd42-9508-4fd2-95b6-743f72779a85",
   "metadata": {},
   "source": [
    "Ejercicio 3\n",
    "\n",
    "Haciendo uso de la matriz 3x3 creada en el ejercicio anterior y del siguiente array a, calcule:\n",
    "\n",
    "a = (0 3 5)\n",
    "\n",
    "La suma de la matriz más el vector\n",
    "\n",
    "La división de ambos. ¿qué ocurre? Modifique el valor extraño por 0.\n",
    "\n",
    "El valor máximo de la matriz resultado de la división. ¿y por filas? ¿y por columnas?"
   ]
  },
  {
   "cell_type": "code",
   "execution_count": 20,
   "id": "6af3f8ce-b968-4290-8ac2-8e586feda72f",
   "metadata": {},
   "outputs": [
    {
     "data": {
      "text/plain": [
       "array([[  2,   8,   9],\n",
       "       [  2,  52,  39],\n",
       "       [ 21,   9, 110]])"
      ]
     },
     "execution_count": 20,
     "metadata": {},
     "output_type": "execute_result"
    }
   ],
   "source": [
    "a = np.array([0,3,5])\n",
    "np.add(b,a)"
   ]
  },
  {
   "cell_type": "code",
   "execution_count": 26,
   "id": "b755db3c-4c1a-4543-a8c6-a60b94dcb0bf",
   "metadata": {},
   "outputs": [
    {
     "name": "stderr",
     "output_type": "stream",
     "text": [
      "C:\\Users\\Usuario\\AppData\\Local\\Temp\\ipykernel_13152\\4126096985.py:1: RuntimeWarning: divide by zero encountered in true_divide\n",
      "  d = np.divide(b,a)\n"
     ]
    },
    {
     "data": {
      "text/plain": [
       "array([[False,  True,  True],\n",
       "       [False,  True,  True],\n",
       "       [False,  True,  True]])"
      ]
     },
     "execution_count": 26,
     "metadata": {},
     "output_type": "execute_result"
    }
   ],
   "source": [
    "d = np.divide(b,a)\n",
    "np.isfinite(d)"
   ]
  },
  {
   "cell_type": "code",
   "execution_count": 31,
   "id": "d6592451-0a49-49d7-99aa-1f5a3285766c",
   "metadata": {},
   "outputs": [
    {
     "data": {
      "text/plain": [
       "array([[ 0.        ,  1.66666667,  0.8       ],\n",
       "       [ 0.        , 16.33333333,  6.8       ],\n",
       "       [ 0.        ,  2.        , 21.        ]])"
      ]
     },
     "execution_count": 31,
     "metadata": {},
     "output_type": "execute_result"
    }
   ],
   "source": [
    "d[np.isinf(d)] = 0 # d*np.isfinite(d)\n",
    "d"
   ]
  },
  {
   "cell_type": "code",
   "execution_count": 32,
   "id": "0e0317f0-8ba7-4307-b533-22380aa4e278",
   "metadata": {},
   "outputs": [
    {
     "data": {
      "text/plain": [
       "21.0"
      ]
     },
     "execution_count": 32,
     "metadata": {},
     "output_type": "execute_result"
    }
   ],
   "source": [
    "np.max(d)"
   ]
  },
  {
   "cell_type": "code",
   "execution_count": 33,
   "id": "4d2eba78-33c7-4549-85ca-6993ab46d115",
   "metadata": {},
   "outputs": [
    {
     "name": "stdout",
     "output_type": "stream",
     "text": [
      "[ 0.         16.33333333 21.        ] [ 1.66666667 16.33333333 21.        ]\n"
     ]
    }
   ],
   "source": [
    "print(np.max(d, axis=0),np.max(d, axis=1))"
   ]
  },
  {
   "cell_type": "markdown",
   "id": "9301917d-33e8-4c9a-a29e-92d847b92ca4",
   "metadata": {},
   "source": [
    "Ejercicio 4"
   ]
  },
  {
   "cell_type": "code",
   "execution_count": 34,
   "id": "64d9bed2-aed7-4f43-8274-61c968cc7364",
   "metadata": {},
   "outputs": [],
   "source": [
    "array = np.array([44, 28,  8, 34, 34, 26, 32, 12, 28,  6, 19, 12, 46, 20, 20, 49, 18,\n",
    "       19, 15, 15, 43,  3, 17, 33, 27, 10, 18,  2,  3,  3, 35, 35, 21, 17,\n",
    "       36, 31, 16, 27,  6, 46, 29, 25, 26, 48, 30, 19, 18,  1, 43, 10, 32,\n",
    "       15, 32, 30, 40, 41, 11, 46, 39,  5, 40,  1, 26, 10, 18, 26, 25, 25,\n",
    "       21, 30, 12, 46,  1, 43,  1,  3, 26, 24,  0, 36, 34,  7, 26, 25, 41,\n",
    "       22,  1, 16, 43,  1, 46, 14, 17, 39, 12,  9, 42, 48,  9, 45, 47, 32,\n",
    "       15,  6, 40, 18,  6, 13, 35,  8, 46, 48, 26, 23, 12, 29, 21,  6,  3,\n",
    "       22, 27, 16, 27, 10, 28, 23,  5, 24, 17, 43, 25, 11, 38, 40, 32, 42,\n",
    "       27, 32,  6, 16, 18, 10, 18, 34, 34,  3,  4,  5,  4,  0, 35, 30,  9,\n",
    "       16, 32, 46,  7, 10, 20, 13, 48,  8, 27, 27, 27, 16, 17, 12, 35, 31,\n",
    "       21, 29, 15, 49, 14, 22, 18,  0, 13, 14, 39, 30,  4, 48,  1, 19, 33,\n",
    "       39,  9,  0, 24,  6, 12, 24, 29, 16, 11, 12, 13, 11])"
   ]
  },
  {
   "cell_type": "markdown",
   "id": "e01c9dd5-d3fd-4d5f-aa22-a11fc766f8be",
   "metadata": {},
   "source": [
    "Considerando el array de números que podéis encontrar justo arriba, calcula:\n",
    "\n",
    "Valor medio y mediano\n",
    "\n",
    "¿Qué valor se encuentra en el tercer cuártil?\n",
    "\n",
    "¿Qué valor se encuentra en el percentil 25? ¿y en el 50? ¿con qué valor coincide este último?\n",
    "\n",
    "¿Cuál es la desviación estándar y la varianza del conjunto de datos?"
   ]
  },
  {
   "cell_type": "code",
   "execution_count": 35,
   "id": "8dd76b29-bec3-4006-a4ab-a20a89a38919",
   "metadata": {},
   "outputs": [
    {
     "data": {
      "text/plain": [
       "22.405"
      ]
     },
     "execution_count": 35,
     "metadata": {},
     "output_type": "execute_result"
    }
   ],
   "source": [
    "np.mean(array)"
   ]
  },
  {
   "cell_type": "code",
   "execution_count": 36,
   "id": "f2ccfd5f-6e51-4d6d-85af-0251aa2f2608",
   "metadata": {},
   "outputs": [
    {
     "data": {
      "text/plain": [
       "21.0"
      ]
     },
     "execution_count": 36,
     "metadata": {},
     "output_type": "execute_result"
    }
   ],
   "source": [
    "np.median(array)"
   ]
  },
  {
   "cell_type": "code",
   "execution_count": 39,
   "id": "adddab64-99c2-4bb5-b592-1f4ce707a61b",
   "metadata": {},
   "outputs": [
    {
     "data": {
      "text/plain": [
       "11.75"
      ]
     },
     "execution_count": 39,
     "metadata": {},
     "output_type": "execute_result"
    }
   ],
   "source": [
    "np.percentile(array,25)"
   ]
  },
  {
   "cell_type": "code",
   "execution_count": 41,
   "id": "c9aed106-ad2b-4461-8959-5f6903c1eaf6",
   "metadata": {},
   "outputs": [
    {
     "data": {
      "text/plain": [
       "21.0"
      ]
     },
     "execution_count": 41,
     "metadata": {},
     "output_type": "execute_result"
    }
   ],
   "source": [
    "np.percentile(array,50) # coincide con la mediana"
   ]
  },
  {
   "cell_type": "code",
   "execution_count": 42,
   "id": "c4dc7ffd-5d01-45f4-aaa0-5795032f52fd",
   "metadata": {},
   "outputs": [
    {
     "data": {
      "text/plain": [
       "13.66934435150421"
      ]
     },
     "execution_count": 42,
     "metadata": {},
     "output_type": "execute_result"
    }
   ],
   "source": [
    "np.std(array)"
   ]
  },
  {
   "cell_type": "code",
   "execution_count": 43,
   "id": "187595b8-98c1-4f14-818c-37d142e2e405",
   "metadata": {},
   "outputs": [
    {
     "data": {
      "text/plain": [
       "186.85097500000003"
      ]
     },
     "execution_count": 43,
     "metadata": {},
     "output_type": "execute_result"
    }
   ],
   "source": [
    "np.var(array)"
   ]
  },
  {
   "cell_type": "code",
   "execution_count": null,
   "id": "c1727f02-3a69-43a3-b839-f0d1623ce48e",
   "metadata": {},
   "outputs": [],
   "source": []
  }
 ],
 "metadata": {
  "kernelspec": {
   "display_name": "Python 3 (ipykernel)",
   "language": "python",
   "name": "python3"
  },
  "language_info": {
   "codemirror_mode": {
    "name": "ipython",
    "version": 3
   },
   "file_extension": ".py",
   "mimetype": "text/x-python",
   "name": "python",
   "nbconvert_exporter": "python",
   "pygments_lexer": "ipython3",
   "version": "3.10.10"
  }
 },
 "nbformat": 4,
 "nbformat_minor": 5
}
