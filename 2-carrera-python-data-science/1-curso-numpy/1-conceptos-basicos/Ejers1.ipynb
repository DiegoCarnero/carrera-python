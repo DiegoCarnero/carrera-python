{
 "cells": [
  {
   "cell_type": "code",
   "execution_count": 13,
   "id": "70d35987-3ff8-493f-a7c7-28ec12ce4477",
   "metadata": {},
   "outputs": [],
   "source": [
    "import numpy as np\n",
    "import numpy.ma as ma"
   ]
  },
  {
   "cell_type": "markdown",
   "id": "355ea7bd-6a2f-4697-8eff-a532c4c44fee",
   "metadata": {},
   "source": [
    "Ejercicio 1\n",
    "\n",
    "Crea 3 nuevos arrays.\n",
    "\n",
    "- Array de tipo entero, que contenga solo los números impares del 1 al 100.\n",
    "- Array de tipo cadena con tu nombre y apellidos\n",
    "- Array de tipo fechas, que contenga todos los días desde el 01Enero2020 al 04Febrero2020"
   ]
  },
  {
   "cell_type": "code",
   "execution_count": 50,
   "id": "47427f35-457e-4699-aec2-4fc43770b7d1",
   "metadata": {},
   "outputs": [],
   "source": [
    "impares = np.arange(1,100,2, dtype=np.int8)\n",
    "np.array(['Nombre','Ap1','Ap2'])\n",
    "fechas = np.arange('2020-01-01','2020-02-04', dtype='datetime64[D]')"
   ]
  },
  {
   "cell_type": "markdown",
   "id": "dc5e694d-411a-4a4b-9988-3b90ccdb2b8b",
   "metadata": {},
   "source": [
    "Ejercicio 2\n",
    "\n",
    "Recupera los últimos 10 elementos del array de impares"
   ]
  },
  {
   "cell_type": "code",
   "execution_count": 51,
   "id": "497d28a2-b187-466b-998c-b85e130776cf",
   "metadata": {},
   "outputs": [
    {
     "data": {
      "text/plain": [
       "array([99, 97, 95, 93, 91, 89, 87, 85, 83, 81], dtype=int8)"
      ]
     },
     "execution_count": 51,
     "metadata": {},
     "output_type": "execute_result"
    }
   ],
   "source": [
    "last_impares = impares[:-11:-1]\n",
    "last_impares"
   ]
  },
  {
   "cell_type": "markdown",
   "id": "7524b418-c5ae-4b9a-99ad-17428ed085fc",
   "metadata": {},
   "source": [
    "Ejercicio 3\n",
    "\n",
    "Recorre el array de fechas, y genera un nuevo numpy array que contenga unicamente los días laborales"
   ]
  },
  {
   "cell_type": "code",
   "execution_count": 56,
   "id": "07a02f11-1b33-4973-9aff-1cf4d3b66f6f",
   "metadata": {},
   "outputs": [
    {
     "data": {
      "text/plain": [
       "[numpy.datetime64('2020-01-01'),\n",
       " numpy.datetime64('2020-01-02'),\n",
       " numpy.datetime64('2020-01-03'),\n",
       " numpy.datetime64('2020-01-06'),\n",
       " numpy.datetime64('2020-01-07'),\n",
       " numpy.datetime64('2020-01-08'),\n",
       " numpy.datetime64('2020-01-09'),\n",
       " numpy.datetime64('2020-01-10'),\n",
       " numpy.datetime64('2020-01-13'),\n",
       " numpy.datetime64('2020-01-14'),\n",
       " numpy.datetime64('2020-01-15'),\n",
       " numpy.datetime64('2020-01-16'),\n",
       " numpy.datetime64('2020-01-17'),\n",
       " numpy.datetime64('2020-01-20'),\n",
       " numpy.datetime64('2020-01-21'),\n",
       " numpy.datetime64('2020-01-22'),\n",
       " numpy.datetime64('2020-01-23'),\n",
       " numpy.datetime64('2020-01-24'),\n",
       " numpy.datetime64('2020-01-27'),\n",
       " numpy.datetime64('2020-01-28'),\n",
       " numpy.datetime64('2020-01-29'),\n",
       " numpy.datetime64('2020-01-30'),\n",
       " numpy.datetime64('2020-01-31'),\n",
       " numpy.datetime64('2020-02-03')]"
      ]
     },
     "execution_count": 56,
     "metadata": {},
     "output_type": "execute_result"
    }
   ],
   "source": [
    "business_days = []\n",
    "for f in fechas:\n",
    "    if np.is_busday(f):\n",
    "        business_days.append(f)\n",
    "business_days"
   ]
  },
  {
   "cell_type": "markdown",
   "id": "1de987f7-eb78-480a-a09c-40ce7b52d2fc",
   "metadata": {},
   "source": [
    "Ejercicio 4\n",
    "\n",
    "Genera la siguiente matriz.\n",
    "\n",
    "¿De qué tipo es? Luego, implementa una máscara a todos los números de la matriz mayores o iguales a 10"
   ]
  },
  {
   "cell_type": "code",
   "execution_count": 63,
   "id": "cae0ce15-7e94-48b4-a43a-8c0a99b27a86",
   "metadata": {},
   "outputs": [
    {
     "data": {
      "text/plain": [
       "matrix([[10,  1,  8,  4],\n",
       "        [ 3,  7,  2,  1],\n",
       "        [ 0,  2, 20, 12]])"
      ]
     },
     "execution_count": 63,
     "metadata": {},
     "output_type": "execute_result"
    }
   ],
   "source": [
    "a = np.array([[10,1,8,4],[3,7,2,1],[0,2,20,12]])\n",
    "m = np.asmatrix(a)\n",
    "m"
   ]
  },
  {
   "cell_type": "code",
   "execution_count": 69,
   "id": "baefd8fa-59c3-4fb2-99c9-e5c45e2a527f",
   "metadata": {},
   "outputs": [
    {
     "data": {
      "text/plain": [
       "masked_matrix(\n",
       "  data=[[10, 1, 8, 4],\n",
       "        [3, 7, 2, 1],\n",
       "        [0, 2, --, --]],\n",
       "  mask=[[False, False, False, False],\n",
       "        [False, False, False, False],\n",
       "        [False, False,  True,  True]],\n",
       "  fill_value=999999)"
      ]
     },
     "execution_count": 69,
     "metadata": {},
     "output_type": "execute_result"
    }
   ],
   "source": [
    "ma.masked_array(m,m>10)"
   ]
  },
  {
   "cell_type": "markdown",
   "id": "3876aaae-2d25-44b2-8234-7a05272d3cbc",
   "metadata": {},
   "source": [
    "Ejercicio 5\n",
    "\n",
    "Crea dos fechas, la primera de ellas será tu fecha de nacimiento, y la segunda, la de un familiar o amigo tuyo.\n",
    "\n",
    "- ¿Qué diferencia en horas hay entre las dos fechas?\n",
    "- ¿Cual sería tu fecha de nacimiento si hubieras nacido 236 horas antes?"
   ]
  },
  {
   "cell_type": "code",
   "execution_count": 71,
   "id": "93971ab5-47ee-4261-86f3-5091b08b86f2",
   "metadata": {},
   "outputs": [
    {
     "data": {
      "text/plain": [
       "numpy.timedelta64(64800,'h')"
      ]
     },
     "execution_count": 71,
     "metadata": {},
     "output_type": "execute_result"
    }
   ],
   "source": [
    "fecha1 = np.datetime64('1993-05-03')\n",
    "fecha2 = np.datetime64('1985-12-11')\n",
    "\n",
    "dif = fecha1 - fecha2\n",
    "np.timedelta64(dif, 'h')"
   ]
  },
  {
   "cell_type": "code",
   "execution_count": 76,
   "id": "72a41f60-4e2d-460f-834c-580f4781cb4d",
   "metadata": {},
   "outputs": [
    {
     "data": {
      "text/plain": [
       "numpy.datetime64('1993-04-13T08','h')"
      ]
     },
     "execution_count": 76,
     "metadata": {},
     "output_type": "execute_result"
    }
   ],
   "source": [
    "horas236 = np.timedelta64(236,'h')\n",
    "fecha1 -= horas236\n",
    "fecha1"
   ]
  }
 ],
 "metadata": {
  "kernelspec": {
   "display_name": "Python 3 (ipykernel)",
   "language": "python",
   "name": "python3"
  },
  "language_info": {
   "codemirror_mode": {
    "name": "ipython",
    "version": 3
   },
   "file_extension": ".py",
   "mimetype": "text/x-python",
   "name": "python",
   "nbconvert_exporter": "python",
   "pygments_lexer": "ipython3",
   "version": "3.10.10"
  }
 },
 "nbformat": 4,
 "nbformat_minor": 5
}
