{
 "cells": [
  {
   "cell_type": "code",
   "execution_count": 1,
   "id": "a6958a36-8841-4838-9dad-f0021f04d19b",
   "metadata": {},
   "outputs": [],
   "source": [
    "import numpy as np"
   ]
  },
  {
   "cell_type": "code",
   "execution_count": 2,
   "id": "79628e07-3aea-4d78-861f-df43f0bc64b8",
   "metadata": {},
   "outputs": [],
   "source": [
    "a = np.array([[3,2],[1,3]])\n",
    "b = np.array([[2,2],[1,2]])"
   ]
  },
  {
   "cell_type": "code",
   "execution_count": 3,
   "id": "b4fedd3b-4946-438f-8999-5738d35f9916",
   "metadata": {},
   "outputs": [
    {
     "data": {
      "text/plain": [
       "array([[ 8, 10],\n",
       "       [ 5,  8]])"
      ]
     },
     "execution_count": 3,
     "metadata": {},
     "output_type": "execute_result"
    }
   ],
   "source": [
    "np.dot(a,b)"
   ]
  },
  {
   "cell_type": "code",
   "execution_count": 4,
   "id": "681b5094-09cc-42a0-9088-fa0c070303cc",
   "metadata": {},
   "outputs": [
    {
     "data": {
      "text/plain": [
       "17"
      ]
     },
     "execution_count": 4,
     "metadata": {},
     "output_type": "execute_result"
    }
   ],
   "source": [
    "np.vdot(a,b)"
   ]
  },
  {
   "cell_type": "code",
   "execution_count": 5,
   "id": "3dfd4bbc-9651-4f99-b8d3-78870a058dc8",
   "metadata": {},
   "outputs": [
    {
     "data": {
      "text/plain": [
       "array([ 5, 14])"
      ]
     },
     "execution_count": 5,
     "metadata": {},
     "output_type": "execute_result"
    }
   ],
   "source": [
    "a = np.arange(6).reshape((2,3))\n",
    "b = np.arange(3)\n",
    "np.inner(a,b)"
   ]
  },
  {
   "cell_type": "code",
   "execution_count": 6,
   "id": "c03dd4c8-2155-4b28-9c48-7f9bbf550c86",
   "metadata": {},
   "outputs": [],
   "source": [
    "m = np.diag([4,3,2,1])"
   ]
  },
  {
   "cell_type": "code",
   "execution_count": 7,
   "id": "b5f85f07-74b2-4a67-840c-91690d5125ec",
   "metadata": {},
   "outputs": [
    {
     "data": {
      "text/plain": [
       "(array([4., 3., 2., 1.]),\n",
       " array([[1., 0., 0., 0.],\n",
       "        [0., 1., 0., 0.],\n",
       "        [0., 0., 1., 0.],\n",
       "        [0., 0., 0., 1.]]))"
      ]
     },
     "execution_count": 7,
     "metadata": {},
     "output_type": "execute_result"
    }
   ],
   "source": [
    "np.linalg.eig(m)"
   ]
  },
  {
   "cell_type": "code",
   "execution_count": 9,
   "id": "07835ed9-f5a2-46b2-8718-551b0a45fa63",
   "metadata": {},
   "outputs": [
    {
     "data": {
      "text/plain": [
       "24.000000000000004"
      ]
     },
     "execution_count": 9,
     "metadata": {},
     "output_type": "execute_result"
    }
   ],
   "source": [
    "np.linalg.det(m)"
   ]
  },
  {
   "cell_type": "code",
   "execution_count": 15,
   "id": "68b45814-94d8-487a-ac83-2cb0991ce9b2",
   "metadata": {},
   "outputs": [],
   "source": [
    "m = np.array([[3,1,],[1,2]])\n",
    "result = np.array([9,9])"
   ]
  },
  {
   "cell_type": "markdown",
   "id": "a04c2f76-5a08-4257-a40f-790f12e8c613",
   "metadata": {},
   "source": [
    "3 * x0 + 1 * x1 = 9\n",
    "\n",
    "1 * x0 + 2 * x1 = 8"
   ]
  },
  {
   "cell_type": "code",
   "execution_count": 16,
   "id": "1937a986-ad9a-44f5-b909-4651b1c3afe5",
   "metadata": {},
   "outputs": [
    {
     "data": {
      "text/plain": [
       "array([1.8, 3.6])"
      ]
     },
     "execution_count": 16,
     "metadata": {},
     "output_type": "execute_result"
    }
   ],
   "source": [
    "x = np.linalg.solve(m,result)\n",
    "x"
   ]
  },
  {
   "cell_type": "code",
   "execution_count": null,
   "id": "f3adfba6-8ef1-40a8-b050-16a4b8bb4902",
   "metadata": {},
   "outputs": [],
   "source": []
  }
 ],
 "metadata": {
  "kernelspec": {
   "display_name": "Python 3 (ipykernel)",
   "language": "python",
   "name": "python3"
  },
  "language_info": {
   "codemirror_mode": {
    "name": "ipython",
    "version": 3
   },
   "file_extension": ".py",
   "mimetype": "text/x-python",
   "name": "python",
   "nbconvert_exporter": "python",
   "pygments_lexer": "ipython3",
   "version": "3.10.10"
  }
 },
 "nbformat": 4,
 "nbformat_minor": 5
}
