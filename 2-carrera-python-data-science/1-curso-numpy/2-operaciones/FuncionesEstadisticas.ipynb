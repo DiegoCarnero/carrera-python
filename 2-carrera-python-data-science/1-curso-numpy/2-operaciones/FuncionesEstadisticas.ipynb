{
 "cells": [
  {
   "cell_type": "code",
   "execution_count": 1,
   "id": "a2db2cf9-af93-445e-a097-34dd5ae727bf",
   "metadata": {},
   "outputs": [],
   "source": [
    "import numpy as np"
   ]
  },
  {
   "cell_type": "code",
   "execution_count": 3,
   "id": "6042ddc0-d4c1-446c-bae3-0bf2cb6cee47",
   "metadata": {},
   "outputs": [
    {
     "data": {
      "text/plain": [
       "array([[ 0,  1,  2,  3],\n",
       "       [ 4,  5,  6,  7],\n",
       "       [ 8,  9, 10, 11]])"
      ]
     },
     "execution_count": 3,
     "metadata": {},
     "output_type": "execute_result"
    }
   ],
   "source": [
    "arr = np.arange(12).reshape((3,4))\n",
    "arr"
   ]
  },
  {
   "cell_type": "code",
   "execution_count": 4,
   "id": "981f92fb-40c5-4230-99b4-716a488c0cbd",
   "metadata": {},
   "outputs": [
    {
     "data": {
      "text/plain": [
       "array([0, 1, 2, 3])"
      ]
     },
     "execution_count": 4,
     "metadata": {},
     "output_type": "execute_result"
    }
   ],
   "source": [
    "np.min(arr, axis=0)"
   ]
  },
  {
   "cell_type": "code",
   "execution_count": 5,
   "id": "93ef5030-b958-4b66-a8ee-2763ce16eb12",
   "metadata": {},
   "outputs": [
    {
     "data": {
      "text/plain": [
       "array([0, 4, 8])"
      ]
     },
     "execution_count": 5,
     "metadata": {},
     "output_type": "execute_result"
    }
   ],
   "source": [
    "np.min(arr, axis=1)"
   ]
  },
  {
   "cell_type": "code",
   "execution_count": 7,
   "id": "a99a79b8-93d9-4493-89e5-94dc6ebc7e6b",
   "metadata": {},
   "outputs": [
    {
     "data": {
      "text/plain": [
       "1371.8400000000001"
      ]
     },
     "execution_count": 7,
     "metadata": {},
     "output_type": "execute_result"
    }
   ],
   "source": [
    "b = np.arange(102,9872,3)\n",
    "np.percentile(b,13)"
   ]
  },
  {
   "cell_type": "code",
   "execution_count": 9,
   "id": "c90bccbe-e833-4bfe-8447-b7a779458fa0",
   "metadata": {},
   "outputs": [
    {
     "data": {
      "text/plain": [
       "2544.0"
      ]
     },
     "execution_count": 9,
     "metadata": {},
     "output_type": "execute_result"
    }
   ],
   "source": [
    "np.quantile(b, q= 0.25)"
   ]
  },
  {
   "cell_type": "code",
   "execution_count": 11,
   "id": "fe2061eb-fa82-4ff3-8b2d-b6d57aa71f8d",
   "metadata": {},
   "outputs": [
    {
     "data": {
      "text/plain": [
       "100.5"
      ]
     },
     "execution_count": 11,
     "metadata": {},
     "output_type": "execute_result"
    }
   ],
   "source": [
    "c = np.array([1,2,0,100,200,300])\n",
    "np.mean(c) # media normal"
   ]
  },
  {
   "cell_type": "code",
   "execution_count": 12,
   "id": "c8c65a12-e96a-44d1-8c82-c3168911e7c2",
   "metadata": {},
   "outputs": [
    {
     "data": {
      "text/plain": [
       "51.0"
      ]
     },
     "execution_count": 12,
     "metadata": {},
     "output_type": "execute_result"
    }
   ],
   "source": [
    "np.median(c)"
   ]
  },
  {
   "cell_type": "code",
   "execution_count": 13,
   "id": "31b20fd0-8ad6-4840-94f8-011bbeaa8bdb",
   "metadata": {},
   "outputs": [
    {
     "data": {
      "text/plain": [
       "2820.6446071775863"
      ]
     },
     "execution_count": 13,
     "metadata": {},
     "output_type": "execute_result"
    }
   ],
   "source": [
    "# desviacion = sqrt(varianza)\n",
    "np.std(b)"
   ]
  },
  {
   "cell_type": "code",
   "execution_count": 14,
   "id": "0e42104d-694e-4db2-a7a5-e48d64131608",
   "metadata": {},
   "outputs": [
    {
     "data": {
      "text/plain": [
       "2820.6446071775863"
      ]
     },
     "execution_count": 14,
     "metadata": {},
     "output_type": "execute_result"
    }
   ],
   "source": [
    "np.sqrt(np.var(b))"
   ]
  }
 ],
 "metadata": {
  "kernelspec": {
   "display_name": "Python 3 (ipykernel)",
   "language": "python",
   "name": "python3"
  },
  "language_info": {
   "codemirror_mode": {
    "name": "ipython",
    "version": 3
   },
   "file_extension": ".py",
   "mimetype": "text/x-python",
   "name": "python",
   "nbconvert_exporter": "python",
   "pygments_lexer": "ipython3",
   "version": "3.10.10"
  }
 },
 "nbformat": 4,
 "nbformat_minor": 5
}
