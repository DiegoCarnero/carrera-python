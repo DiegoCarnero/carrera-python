{
 "cells": [
  {
   "cell_type": "code",
   "execution_count": 1,
   "id": "63c72a0f-8bff-4ad4-9244-f491fb2339a0",
   "metadata": {},
   "outputs": [],
   "source": [
    "import numpy as np"
   ]
  },
  {
   "cell_type": "code",
   "execution_count": 2,
   "id": "949de3a6-795f-4768-90c9-6f8e665d7e52",
   "metadata": {},
   "outputs": [
    {
     "data": {
      "text/plain": [
       "array(['aa', 'bbb'], dtype='<U3')"
      ]
     },
     "execution_count": 2,
     "metadata": {},
     "output_type": "execute_result"
    }
   ],
   "source": [
    "np.char.multiply(['a','b'],[2,3])"
   ]
  },
  {
   "cell_type": "code",
   "execution_count": 3,
   "id": "72b837b1-6ea7-4e23-808e-dbcbc76c2519",
   "metadata": {},
   "outputs": [
    {
     "data": {
      "text/plain": [
       "array([ True, False, False])"
      ]
     },
     "execution_count": 3,
     "metadata": {},
     "output_type": "execute_result"
    }
   ],
   "source": [
    "np.char.isupper([\"HOLA\",\"adios\",\"holA\"])"
   ]
  },
  {
   "cell_type": "code",
   "execution_count": 4,
   "id": "3dc24487-bd18-4929-852b-a96a30b36969",
   "metadata": {},
   "outputs": [
    {
     "data": {
      "text/plain": [
       "array([False, False,  True])"
      ]
     },
     "execution_count": 4,
     "metadata": {},
     "output_type": "execute_result"
    }
   ],
   "source": [
    "c = np.array([\"Adios\",\"Hola\",\"123\"])\n",
    "np.char.isdigit(c)"
   ]
  },
  {
   "cell_type": "code",
   "execution_count": 5,
   "id": "1d17e69a-49bc-473c-b0e6-37a361e88c96",
   "metadata": {},
   "outputs": [
    {
     "data": {
      "text/plain": [
       "array(['123'], dtype='<U5')"
      ]
     },
     "execution_count": 5,
     "metadata": {},
     "output_type": "execute_result"
    }
   ],
   "source": [
    "c[np.char.isdigit(c)]"
   ]
  },
  {
   "cell_type": "code",
   "execution_count": null,
   "id": "a934accb-4e48-4a14-a773-5884e95b628a",
   "metadata": {},
   "outputs": [],
   "source": []
  }
 ],
 "metadata": {
  "kernelspec": {
   "display_name": "Python 3 (ipykernel)",
   "language": "python",
   "name": "python3"
  },
  "language_info": {
   "codemirror_mode": {
    "name": "ipython",
    "version": 3
   },
   "file_extension": ".py",
   "mimetype": "text/x-python",
   "name": "python",
   "nbconvert_exporter": "python",
   "pygments_lexer": "ipython3",
   "version": "3.10.10"
  }
 },
 "nbformat": 4,
 "nbformat_minor": 5
}
