{
 "cells": [
  {
   "cell_type": "code",
   "execution_count": 1,
   "id": "742b9323-9404-4ccc-a37a-5c1ab234c57a",
   "metadata": {},
   "outputs": [],
   "source": [
    "import numpy as np"
   ]
  },
  {
   "cell_type": "code",
   "execution_count": 3,
   "id": "d1f61ef6-bf3d-4b42-a452-2312bdf2ff71",
   "metadata": {},
   "outputs": [
    {
     "data": {
      "text/plain": [
       "numpy.datetime64('2020-09-01')"
      ]
     },
     "execution_count": 3,
     "metadata": {},
     "output_type": "execute_result"
    }
   ],
   "source": [
    "d = np.datetime64('2020-09-01')\n",
    "d"
   ]
  },
  {
   "cell_type": "code",
   "execution_count": 5,
   "id": "65f34eca-27c7-4122-b05e-094594630f7d",
   "metadata": {},
   "outputs": [
    {
     "data": {
      "text/plain": [
       "dtype('<U3')"
      ]
     },
     "execution_count": 5,
     "metadata": {},
     "output_type": "execute_result"
    }
   ],
   "source": [
    "np.array(['a','b','cde']).dtype"
   ]
  },
  {
   "cell_type": "code",
   "execution_count": null,
   "id": "a183c4e5-533c-4051-aaca-92b2007abf77",
   "metadata": {},
   "outputs": [],
   "source": []
  },
  {
   "cell_type": "code",
   "execution_count": 8,
   "id": "9355dd6a-a191-4318-9d52-396f46b8f986",
   "metadata": {},
   "outputs": [
    {
     "data": {
      "text/plain": [
       "array(['2019-12-26', '2020-01-02', '2020-01-09', '2020-01-16',\n",
       "       '2020-01-23', '2020-01-30', '2020-02-06', '2020-02-13',\n",
       "       '2020-02-20', '2020-02-27', '2020-03-05', '2020-03-12',\n",
       "       '2020-03-19', '2020-03-26', '2020-04-02', '2020-04-09',\n",
       "       '2020-04-16', '2020-04-23', '2020-04-30', '2020-05-07',\n",
       "       '2020-05-14', '2020-05-21', '2020-05-28', '2020-06-04',\n",
       "       '2020-06-11', '2020-06-18', '2020-06-25', '2020-07-02',\n",
       "       '2020-07-09', '2020-07-16', '2020-07-23', '2020-07-30',\n",
       "       '2020-08-06', '2020-08-13', '2020-08-20', '2020-08-27',\n",
       "       '2020-09-03', '2020-09-10', '2020-09-17', '2020-09-24',\n",
       "       '2020-10-01', '2020-10-08', '2020-10-15', '2020-10-22',\n",
       "       '2020-10-29', '2020-11-05', '2020-11-12', '2020-11-19',\n",
       "       '2020-11-26', '2020-12-03', '2020-12-10', '2020-12-17',\n",
       "       '2020-12-24'], dtype='datetime64[W]')"
      ]
     },
     "execution_count": 8,
     "metadata": {},
     "output_type": "execute_result"
    }
   ],
   "source": [
    "np.arange('2020','2021', dtype='datetime64[W]')"
   ]
  },
  {
   "cell_type": "code",
   "execution_count": 9,
   "id": "7595ed50-28d3-4533-bbe7-de051811377a",
   "metadata": {},
   "outputs": [
    {
     "data": {
      "text/plain": [
       "numpy.timedelta64(1,'W')"
      ]
     },
     "execution_count": 9,
     "metadata": {},
     "output_type": "execute_result"
    }
   ],
   "source": [
    "a = np.timedelta64(8, 'D')\n",
    "np.timedelta64(a,'W')"
   ]
  },
  {
   "cell_type": "code",
   "execution_count": 14,
   "id": "0cf67547-f872-419e-a2bd-13d18677ead9",
   "metadata": {},
   "outputs": [
    {
     "data": {
      "text/plain": [
       "numpy.datetime64('2020-08-11')"
      ]
     },
     "execution_count": 14,
     "metadata": {},
     "output_type": "execute_result"
    }
   ],
   "source": [
    "np.datetime64('2020-08-01') + np.timedelta64(10, 'D')"
   ]
  },
  {
   "cell_type": "code",
   "execution_count": null,
   "id": "a5e6bf45-903c-4312-8ee4-7e3cea2f6460",
   "metadata": {},
   "outputs": [],
   "source": [
    "np.isin"
   ]
  }
 ],
 "metadata": {
  "kernelspec": {
   "display_name": "Python 3 (ipykernel)",
   "language": "python",
   "name": "python3"
  },
  "language_info": {
   "codemirror_mode": {
    "name": "ipython",
    "version": 3
   },
   "file_extension": ".py",
   "mimetype": "text/x-python",
   "name": "python",
   "nbconvert_exporter": "python",
   "pygments_lexer": "ipython3",
   "version": "3.10.10"
  }
 },
 "nbformat": 4,
 "nbformat_minor": 5
}
