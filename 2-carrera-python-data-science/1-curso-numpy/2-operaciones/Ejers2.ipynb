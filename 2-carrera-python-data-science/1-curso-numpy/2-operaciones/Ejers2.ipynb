{
 "cells": [
  {
   "cell_type": "code",
   "execution_count": 1,
   "id": "a0d0bde7-ec66-4dc8-a08a-94bae227d703",
   "metadata": {},
   "outputs": [],
   "source": [
    "import numpy as np"
   ]
  },
  {
   "cell_type": "markdown",
   "id": "69017b16-fef9-4b64-bbc2-064c6eed0deb",
   "metadata": {},
   "source": [
    "Ejercicio 1\n",
    "\n",
    "Genera un array que contenga 25 elementos entre 0 y 99 siguiendo una distribución lineal. Luego, transforma ese array en una matriz de 5 x 5. ¿Cuál es la diagonal de la matriz? ¿Y la diagonal justo superior?"
   ]
  },
  {
   "cell_type": "code",
   "execution_count": 5,
   "id": "3b3f7f44-2019-4185-9632-01bfe3be2964",
   "metadata": {},
   "outputs": [
    {
     "data": {
      "text/plain": [
       "array([ 0.,  4.,  8., 12., 16., 20., 24., 28., 32., 36., 40., 44., 48.,\n",
       "       52., 56., 60., 64., 68., 72., 76., 80., 84., 88., 92., 96.])"
      ]
     },
     "execution_count": 5,
     "metadata": {},
     "output_type": "execute_result"
    }
   ],
   "source": [
    "arr = np.linspace(0,100, num=25, endpoint=False)\n",
    "arr"
   ]
  },
  {
   "cell_type": "code",
   "execution_count": 8,
   "id": "d80e0d35-1bbd-4c41-9680-3fb5a4e57ab1",
   "metadata": {},
   "outputs": [
    {
     "data": {
      "text/plain": [
       "array([[ 0.,  4.,  8., 12., 16.],\n",
       "       [20., 24., 28., 32., 36.],\n",
       "       [40., 44., 48., 52., 56.],\n",
       "       [60., 64., 68., 72., 76.],\n",
       "       [80., 84., 88., 92., 96.]])"
      ]
     },
     "execution_count": 8,
     "metadata": {},
     "output_type": "execute_result"
    }
   ],
   "source": [
    "m = arr.reshape((5,5))\n",
    "m"
   ]
  },
  {
   "cell_type": "code",
   "execution_count": 9,
   "id": "5710bd78-d14a-4127-87a3-7f0fcb9e18ac",
   "metadata": {},
   "outputs": [
    {
     "data": {
      "text/plain": [
       "array([ 0., 24., 48., 72., 96.])"
      ]
     },
     "execution_count": 9,
     "metadata": {},
     "output_type": "execute_result"
    }
   ],
   "source": [
    "np.diag(m)"
   ]
  },
  {
   "cell_type": "code",
   "execution_count": 10,
   "id": "0506c6c9-916c-43a6-8637-b12198a33fd2",
   "metadata": {},
   "outputs": [
    {
     "data": {
      "text/plain": [
       "array([ 4., 28., 52., 76.])"
      ]
     },
     "execution_count": 10,
     "metadata": {},
     "output_type": "execute_result"
    }
   ],
   "source": [
    "np.diag(m,k=1)"
   ]
  },
  {
   "cell_type": "markdown",
   "id": "5a2e5be4-00d4-4185-bfce-ad05c3e5e468",
   "metadata": {},
   "source": [
    "Ejercicio 2\n",
    "\n",
    "Crea un de 5 x 4 con el valor repetido 10. Une esa matriz a la matriz del ejercicio anterior para conseguir dos nuevas matrices, una de 5 x 9, y otra de 9 x 5."
   ]
  },
  {
   "cell_type": "code",
   "execution_count": 27,
   "id": "25186291-7642-4b7a-bc19-4e6d27f0e88b",
   "metadata": {},
   "outputs": [
    {
     "data": {
      "text/plain": [
       "array([[10, 10, 10, 10],\n",
       "       [10, 10, 10, 10],\n",
       "       [10, 10, 10, 10],\n",
       "       [10, 10, 10, 10],\n",
       "       [10, 10, 10, 10]])"
      ]
     },
     "execution_count": 27,
     "metadata": {},
     "output_type": "execute_result"
    }
   ],
   "source": [
    "m1 = np.repeat(10, 20).reshape(5,4)\n",
    "m1"
   ]
  },
  {
   "cell_type": "code",
   "execution_count": 28,
   "id": "e3f57e4e-3d52-4f44-b2f8-94f8fa26711d",
   "metadata": {},
   "outputs": [
    {
     "data": {
      "text/plain": [
       "array([[ 0.,  4.,  8., 12., 16.],\n",
       "       [20., 24., 28., 32., 36.],\n",
       "       [40., 44., 48., 52., 56.],\n",
       "       [60., 64., 68., 72., 76.],\n",
       "       [80., 84., 88., 92., 96.],\n",
       "       [10., 10., 10., 10., 10.],\n",
       "       [10., 10., 10., 10., 10.],\n",
       "       [10., 10., 10., 10., 10.],\n",
       "       [10., 10., 10., 10., 10.]])"
      ]
     },
     "execution_count": 28,
     "metadata": {},
     "output_type": "execute_result"
    }
   ],
   "source": [
    "np.concatenate((m,m1.T), axis= 0)"
   ]
  },
  {
   "cell_type": "code",
   "execution_count": 29,
   "id": "59d2fa31-8f50-4a4a-9b18-d1dcff43425e",
   "metadata": {},
   "outputs": [
    {
     "data": {
      "text/plain": [
       "array([[ 0.,  4.,  8., 12., 16., 10., 10., 10., 10.],\n",
       "       [20., 24., 28., 32., 36., 10., 10., 10., 10.],\n",
       "       [40., 44., 48., 52., 56., 10., 10., 10., 10.],\n",
       "       [60., 64., 68., 72., 76., 10., 10., 10., 10.],\n",
       "       [80., 84., 88., 92., 96., 10., 10., 10., 10.]])"
      ]
     },
     "execution_count": 29,
     "metadata": {},
     "output_type": "execute_result"
    }
   ],
   "source": [
    "np.concatenate((m,m1), axis = 1)"
   ]
  },
  {
   "cell_type": "markdown",
   "id": "2334d3a1-3609-4fe4-b1b3-ccef1c9a1d04",
   "metadata": {},
   "source": [
    "Ejercicio 3\n",
    "\n",
    "Teniendo el array inicial que podéis ver justo abajo, debéis realizar las operaciones necesarias para obtener el array:\n",
    "\n",
    "array(['Este', 'Es', 'Un', 'Curso', 'De', 'Openwebinars'], dtype='<U12')\n",
    "\n",
    "¿Qué elementos del array comienzan por 'E'?"
   ]
  },
  {
   "cell_type": "code",
   "execution_count": 42,
   "id": "aba0490a-7340-4cc8-b52f-55e1d5ccc94b",
   "metadata": {},
   "outputs": [
    {
     "data": {
      "text/plain": [
       "array(['este es un curso de openwebinars'], dtype='<U41')"
      ]
     },
     "execution_count": 42,
     "metadata": {},
     "output_type": "execute_result"
    }
   ],
   "source": [
    "a = np.array(['     este es un curso de openwebinars    '])\n",
    "a = np.char.strip(a)\n",
    "a"
   ]
  },
  {
   "cell_type": "code",
   "execution_count": 43,
   "id": "39cb01b9-fd22-4835-afc6-c72507c79e78",
   "metadata": {},
   "outputs": [
    {
     "data": {
      "text/plain": [
       "array([list(['este', 'es', 'un', 'curso', 'de', 'openwebinars'])],\n",
       "      dtype=object)"
      ]
     },
     "execution_count": 43,
     "metadata": {},
     "output_type": "execute_result"
    }
   ],
   "source": [
    "a = np.char.split(a,sep=' ')\n",
    "a"
   ]
  },
  {
   "cell_type": "code",
   "execution_count": 46,
   "id": "34763473-125f-4319-9156-15882dbbd884",
   "metadata": {},
   "outputs": [
    {
     "data": {
      "text/plain": [
       "array(['Este', 'Es', 'Un', 'Curso', 'De', 'Openwebinars'], dtype='<U12')"
      ]
     },
     "execution_count": 46,
     "metadata": {},
     "output_type": "execute_result"
    }
   ],
   "source": [
    "a = np.char.capitalize(a[0])\n",
    "a"
   ]
  },
  {
   "cell_type": "code",
   "execution_count": 48,
   "id": "3b117606-1dd3-4e79-8063-27f31d6d63d7",
   "metadata": {},
   "outputs": [
    {
     "data": {
      "text/plain": [
       "array(['Este', 'Es'], dtype='<U12')"
      ]
     },
     "execution_count": 48,
     "metadata": {},
     "output_type": "execute_result"
    }
   ],
   "source": [
    "a[np.char.startswith(a,'E')]"
   ]
  },
  {
   "cell_type": "markdown",
   "id": "2d5402ac-abdf-43f0-819d-e4f10d0926db",
   "metadata": {},
   "source": [
    "Ejercicio 4\n",
    "\n",
    "Considerando las matrices A y B.\n",
    "\n",
    "A: &nbsp;&nbsp;&nbsp;&nbsp;&nbsp;&nbsp;&nbsp;&nbsp;&nbsp;&nbsp;&nbsp;&nbsp;&nbsp;&nbsp;&nbsp;&nbsp; B:\n",
    "\n",
    "    3 1 2      2 0 3\n",
    " \n",
    "    4 1 3      1 1 1\n",
    "\n",
    "    2 0 1      0 2 4\n",
    "\n",
    "Realiza la multiplicación matricial de AxB y BxA. ¿Son iguales?\n",
    "\n",
    "Realiza la multiplicación de la matriz A x 2\n",
    "\n",
    "¿Cúanto es la multiplicación escalar de AxB? ¿y de BxA?"
   ]
  },
  {
   "cell_type": "code",
   "execution_count": 54,
   "id": "798895af-ea7c-43ea-84c3-4dbbbd9a24d5",
   "metadata": {},
   "outputs": [
    {
     "name": "stdout",
     "output_type": "stream",
     "text": [
      "[[3 1 2]\n",
      " [4 1 3]\n",
      " [2 0 1]] \n",
      "\n",
      " [[2 0 3]\n",
      " [1 1 1]\n",
      " [0 2 4]]\n"
     ]
    }
   ],
   "source": [
    "A = np.matrix([[3,1,2],[4,1,3],[2,0,1]])\n",
    "B = np.matrix([[2,0,3],[1,1,1],[0,2,4]])\n",
    "print(A,'\\n\\n',B)"
   ]
  },
  {
   "cell_type": "code",
   "execution_count": 55,
   "id": "4f6817a9-3551-4f7c-9641-c12460c42a70",
   "metadata": {},
   "outputs": [
    {
     "data": {
      "text/plain": [
       "matrix([[False, False, False],\n",
       "        [ True, False, False],\n",
       "        [False,  True,  True]])"
      ]
     },
     "execution_count": 55,
     "metadata": {},
     "output_type": "execute_result"
    }
   ],
   "source": [
    "np.dot(A,B) == np.dot(B,A)"
   ]
  },
  {
   "cell_type": "code",
   "execution_count": 57,
   "id": "09a4c09f-b293-4830-8525-42cc8f0d4087",
   "metadata": {},
   "outputs": [
    {
     "data": {
      "text/plain": [
       "matrix([[6, 2, 4],\n",
       "        [8, 2, 6],\n",
       "        [4, 0, 2]])"
      ]
     },
     "execution_count": 57,
     "metadata": {},
     "output_type": "execute_result"
    }
   ],
   "source": [
    "np.dot(A,2)"
   ]
  },
  {
   "cell_type": "code",
   "execution_count": 58,
   "id": "6351c3bf-e9c0-4674-9339-9e82e889c190",
   "metadata": {},
   "outputs": [
    {
     "data": {
      "text/plain": [
       "matrix([[ True]])"
      ]
     },
     "execution_count": 58,
     "metadata": {},
     "output_type": "execute_result"
    }
   ],
   "source": [
    "np.vdot(A,B) == np.vdot(B,A)"
   ]
  },
  {
   "cell_type": "markdown",
   "id": "cbf7ad14-5b32-4983-94e0-789abf2e404e",
   "metadata": {},
   "source": [
    "Ejercicio 5\n",
    "\n",
    "Usando la matriz A del ejercicio anterior, calcula:\n",
    "\n",
    "A^3\n",
    "\n",
    "El determinante de A\n",
    "\n",
    "Resuelve la ecuación Ax = y, siendo *y* el array [3,2,5]"
   ]
  },
  {
   "cell_type": "code",
   "execution_count": 59,
   "id": "850de438-fa27-454d-adb4-10c3e82fbbf0",
   "metadata": {},
   "outputs": [
    {
     "data": {
      "text/plain": [
       "matrix([[27,  1,  8],\n",
       "        [64,  1, 27],\n",
       "        [ 8,  0,  1]], dtype=int32)"
      ]
     },
     "execution_count": 59,
     "metadata": {},
     "output_type": "execute_result"
    }
   ],
   "source": [
    "np.power(A,3)"
   ]
  },
  {
   "cell_type": "code",
   "execution_count": 61,
   "id": "3d7d4fef-49ab-4be5-b5ce-bb432dc93c13",
   "metadata": {},
   "outputs": [
    {
     "data": {
      "text/plain": [
       "matrix([[ 89,  21,  57],\n",
       "        [114,  27,  73],\n",
       "        [ 42,  10,  27]])"
      ]
     },
     "execution_count": 61,
     "metadata": {},
     "output_type": "execute_result"
    }
   ],
   "source": [
    "np.linalg.matrix_power(A,3) # esta es correcta. mismo que A ** 3"
   ]
  },
  {
   "cell_type": "code",
   "execution_count": 62,
   "id": "a7dc786d-094a-450b-aedf-8ba544d4b34f",
   "metadata": {},
   "outputs": [
    {
     "data": {
      "text/plain": [
       "1.0"
      ]
     },
     "execution_count": 62,
     "metadata": {},
     "output_type": "execute_result"
    }
   ],
   "source": [
    "np.linalg.det(A)"
   ]
  },
  {
   "cell_type": "code",
   "execution_count": 64,
   "id": "0149b22d-b75b-4e3e-ba92-b2fe8176cf4e",
   "metadata": {},
   "outputs": [
    {
     "data": {
      "text/plain": [
       "array([ 6., -1., -7.])"
      ]
     },
     "execution_count": 64,
     "metadata": {},
     "output_type": "execute_result"
    }
   ],
   "source": [
    "np.linalg.solve(A,[3,2,5])"
   ]
  }
 ],
 "metadata": {
  "kernelspec": {
   "display_name": "Python 3 (ipykernel)",
   "language": "python",
   "name": "python3"
  },
  "language_info": {
   "codemirror_mode": {
    "name": "ipython",
    "version": 3
   },
   "file_extension": ".py",
   "mimetype": "text/x-python",
   "name": "python",
   "nbconvert_exporter": "python",
   "pygments_lexer": "ipython3",
   "version": "3.10.10"
  }
 },
 "nbformat": 4,
 "nbformat_minor": 5
}
