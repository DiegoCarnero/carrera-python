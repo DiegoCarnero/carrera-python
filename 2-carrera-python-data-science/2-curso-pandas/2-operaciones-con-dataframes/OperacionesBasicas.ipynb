{
 "cells": [
  {
   "cell_type": "code",
   "execution_count": 20,
   "id": "b7a119ab-589e-4538-b266-1116866e8cd3",
   "metadata": {},
   "outputs": [],
   "source": [
    "import numpy as np\n",
    "import pandas as pd\n",
    "from pathlib import Path\n",
    "data_path = Path('./data')"
   ]
  },
  {
   "cell_type": "code",
   "execution_count": 21,
   "id": "7ccb6949-25b9-47ab-84e4-a3d384687704",
   "metadata": {},
   "outputs": [],
   "source": [
    "df = pd.read_csv('data/house.csv')"
   ]
  },
  {
   "cell_type": "code",
   "execution_count": 22,
   "id": "aa81357a-cfa2-48d9-8438-2a1ecd3ce08e",
   "metadata": {},
   "outputs": [
    {
     "data": {
      "text/plain": [
       "4600"
      ]
     },
     "execution_count": 22,
     "metadata": {},
     "output_type": "execute_result"
    }
   ],
   "source": [
    "df['bedrooms'].value_counts().sum()"
   ]
  },
  {
   "cell_type": "code",
   "execution_count": 23,
   "id": "a52c8594-6daa-49eb-8ced-187367e46cb9",
   "metadata": {},
   "outputs": [
    {
     "data": {
      "text/plain": [
       "date             0\n",
       "price            0\n",
       "bedrooms         0\n",
       "bathrooms        0\n",
       "sqft_living      0\n",
       "sqft_lot         0\n",
       "floors           0\n",
       "waterfront       0\n",
       "view             0\n",
       "condition        0\n",
       "sqft_above       0\n",
       "sqft_basement    0\n",
       "yr_built         0\n",
       "yr_renovated     0\n",
       "street           0\n",
       "city             0\n",
       "statezip         0\n",
       "country          0\n",
       "dtype: int64"
      ]
     },
     "execution_count": 23,
     "metadata": {},
     "output_type": "execute_result"
    }
   ],
   "source": [
    "df.isna().sum()"
   ]
  },
  {
   "cell_type": "code",
   "execution_count": 24,
   "id": "001ff58a-7d19-4966-ac8c-32c4196252e4",
   "metadata": {},
   "outputs": [
    {
     "data": {
      "text/plain": [
       "0        menos de 3\n",
       "1       entre 3 y 8\n",
       "2        menos de 3\n",
       "3        menos de 3\n",
       "4       entre 3 y 8\n",
       "           ...     \n",
       "4595     menos de 3\n",
       "4596     menos de 3\n",
       "4597     menos de 3\n",
       "4598    entre 3 y 8\n",
       "4599     menos de 3\n",
       "Name: bedrooms, Length: 4600, dtype: category\n",
       "Categories (3, object): ['menos de 3' < 'entre 3 y 8' < 'mas de 10']"
      ]
     },
     "execution_count": 24,
     "metadata": {},
     "output_type": "execute_result"
    }
   ],
   "source": [
    "pd.cut(df['bedrooms'], bins = [-1, 3, 8, 10], labels=['menos de 3', 'entre 3 y 8', 'mas de 10'])"
   ]
  },
  {
   "cell_type": "code",
   "execution_count": 25,
   "id": "6e3c593e-4af1-438d-8fab-85477281bd3c",
   "metadata": {},
   "outputs": [
    {
     "data": {
      "text/html": [
       "<div>\n",
       "<style scoped>\n",
       "    .dataframe tbody tr th:only-of-type {\n",
       "        vertical-align: middle;\n",
       "    }\n",
       "\n",
       "    .dataframe tbody tr th {\n",
       "        vertical-align: top;\n",
       "    }\n",
       "\n",
       "    .dataframe thead th {\n",
       "        text-align: right;\n",
       "    }\n",
       "</style>\n",
       "<table border=\"1\" class=\"dataframe\">\n",
       "  <thead>\n",
       "    <tr style=\"text-align: right;\">\n",
       "      <th></th>\n",
       "      <th>date</th>\n",
       "      <th>price</th>\n",
       "      <th>bedrooms</th>\n",
       "      <th>bathrooms</th>\n",
       "      <th>sqft_living</th>\n",
       "      <th>sqft_lot</th>\n",
       "      <th>floors</th>\n",
       "      <th>waterfront</th>\n",
       "      <th>view</th>\n",
       "      <th>condition</th>\n",
       "      <th>sqft_above</th>\n",
       "      <th>sqft_basement</th>\n",
       "      <th>yr_built</th>\n",
       "      <th>yr_renovated</th>\n",
       "      <th>street</th>\n",
       "      <th>city</th>\n",
       "      <th>statezip</th>\n",
       "      <th>country</th>\n",
       "    </tr>\n",
       "  </thead>\n",
       "  <tbody>\n",
       "    <tr>\n",
       "      <th>3209</th>\n",
       "      <td>2014-06-24 00:00:00</td>\n",
       "      <td>1295648.0</td>\n",
       "      <td>0.0</td>\n",
       "      <td>0.0</td>\n",
       "      <td>4810</td>\n",
       "      <td>28008</td>\n",
       "      <td>2.0</td>\n",
       "      <td>0</td>\n",
       "      <td>0</td>\n",
       "      <td>3</td>\n",
       "      <td>4810</td>\n",
       "      <td>0</td>\n",
       "      <td>1990</td>\n",
       "      <td>2009</td>\n",
       "      <td>20418 NE 64th Pl</td>\n",
       "      <td>Redmond</td>\n",
       "      <td>WA 98053</td>\n",
       "      <td>USA</td>\n",
       "    </tr>\n",
       "    <tr>\n",
       "      <th>2365</th>\n",
       "      <td>2014-06-12 00:00:00</td>\n",
       "      <td>1095000.0</td>\n",
       "      <td>0.0</td>\n",
       "      <td>0.0</td>\n",
       "      <td>3064</td>\n",
       "      <td>4764</td>\n",
       "      <td>3.5</td>\n",
       "      <td>0</td>\n",
       "      <td>2</td>\n",
       "      <td>3</td>\n",
       "      <td>3064</td>\n",
       "      <td>0</td>\n",
       "      <td>1990</td>\n",
       "      <td>2009</td>\n",
       "      <td>814 E Howe St</td>\n",
       "      <td>Seattle</td>\n",
       "      <td>WA 98102</td>\n",
       "      <td>USA</td>\n",
       "    </tr>\n",
       "    <tr>\n",
       "      <th>4556</th>\n",
       "      <td>2014-06-27 00:00:00</td>\n",
       "      <td>167500.0</td>\n",
       "      <td>1.0</td>\n",
       "      <td>1.0</td>\n",
       "      <td>690</td>\n",
       "      <td>1950</td>\n",
       "      <td>1.0</td>\n",
       "      <td>0</td>\n",
       "      <td>0</td>\n",
       "      <td>3</td>\n",
       "      <td>690</td>\n",
       "      <td>0</td>\n",
       "      <td>1928</td>\n",
       "      <td>1954</td>\n",
       "      <td>7554 14th Ave NW</td>\n",
       "      <td>Seattle</td>\n",
       "      <td>WA 98117</td>\n",
       "      <td>USA</td>\n",
       "    </tr>\n",
       "    <tr>\n",
       "      <th>784</th>\n",
       "      <td>2014-05-16 00:00:00</td>\n",
       "      <td>350000.0</td>\n",
       "      <td>1.0</td>\n",
       "      <td>1.0</td>\n",
       "      <td>700</td>\n",
       "      <td>5100</td>\n",
       "      <td>1.0</td>\n",
       "      <td>0</td>\n",
       "      <td>0</td>\n",
       "      <td>3</td>\n",
       "      <td>700</td>\n",
       "      <td>0</td>\n",
       "      <td>1942</td>\n",
       "      <td>1999</td>\n",
       "      <td>6849 26th Ave NE</td>\n",
       "      <td>Seattle</td>\n",
       "      <td>WA 98115</td>\n",
       "      <td>USA</td>\n",
       "    </tr>\n",
       "    <tr>\n",
       "      <th>3633</th>\n",
       "      <td>2014-06-30 00:00:00</td>\n",
       "      <td>410000.0</td>\n",
       "      <td>1.0</td>\n",
       "      <td>1.5</td>\n",
       "      <td>1010</td>\n",
       "      <td>5750</td>\n",
       "      <td>1.0</td>\n",
       "      <td>0</td>\n",
       "      <td>0</td>\n",
       "      <td>3</td>\n",
       "      <td>1010</td>\n",
       "      <td>0</td>\n",
       "      <td>1911</td>\n",
       "      <td>1948</td>\n",
       "      <td>4611 SW Maple Way</td>\n",
       "      <td>Seattle</td>\n",
       "      <td>WA 98136</td>\n",
       "      <td>USA</td>\n",
       "    </tr>\n",
       "  </tbody>\n",
       "</table>\n",
       "</div>"
      ],
      "text/plain": [
       "                     date      price  bedrooms  bathrooms  sqft_living  \\\n",
       "3209  2014-06-24 00:00:00  1295648.0       0.0        0.0         4810   \n",
       "2365  2014-06-12 00:00:00  1095000.0       0.0        0.0         3064   \n",
       "4556  2014-06-27 00:00:00   167500.0       1.0        1.0          690   \n",
       "784   2014-05-16 00:00:00   350000.0       1.0        1.0          700   \n",
       "3633  2014-06-30 00:00:00   410000.0       1.0        1.5         1010   \n",
       "\n",
       "      sqft_lot  floors  waterfront  view  condition  sqft_above  \\\n",
       "3209     28008     2.0           0     0          3        4810   \n",
       "2365      4764     3.5           0     2          3        3064   \n",
       "4556      1950     1.0           0     0          3         690   \n",
       "784       5100     1.0           0     0          3         700   \n",
       "3633      5750     1.0           0     0          3        1010   \n",
       "\n",
       "      sqft_basement  yr_built  yr_renovated             street     city  \\\n",
       "3209              0      1990          2009   20418 NE 64th Pl  Redmond   \n",
       "2365              0      1990          2009      814 E Howe St  Seattle   \n",
       "4556              0      1928          1954   7554 14th Ave NW  Seattle   \n",
       "784               0      1942          1999   6849 26th Ave NE  Seattle   \n",
       "3633              0      1911          1948  4611 SW Maple Way  Seattle   \n",
       "\n",
       "      statezip country  \n",
       "3209  WA 98053     USA  \n",
       "2365  WA 98102     USA  \n",
       "4556  WA 98117     USA  \n",
       "784   WA 98115     USA  \n",
       "3633  WA 98136     USA  "
      ]
     },
     "execution_count": 25,
     "metadata": {},
     "output_type": "execute_result"
    }
   ],
   "source": [
    "df.sort_values(by = 'bedrooms', inplace=False).head()"
   ]
  },
  {
   "cell_type": "code",
   "execution_count": null,
   "id": "afad7cac-526a-4567-89f5-a90f243c1bf8",
   "metadata": {},
   "outputs": [],
   "source": []
  }
 ],
 "metadata": {
  "kernelspec": {
   "display_name": "Python 3 (ipykernel)",
   "language": "python",
   "name": "python3"
  },
  "language_info": {
   "codemirror_mode": {
    "name": "ipython",
    "version": 3
   },
   "file_extension": ".py",
   "mimetype": "text/x-python",
   "name": "python",
   "nbconvert_exporter": "python",
   "pygments_lexer": "ipython3",
   "version": "3.10.10"
  }
 },
 "nbformat": 4,
 "nbformat_minor": 5
}
