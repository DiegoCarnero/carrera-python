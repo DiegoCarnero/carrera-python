{
 "cells": [
  {
   "cell_type": "code",
   "execution_count": 2,
   "id": "98fee18e-f3d0-4347-a5ed-4bd97d9c8e11",
   "metadata": {},
   "outputs": [],
   "source": [
    "import numpy as np\n",
    "import pandas as pd\n",
    "import datetime"
   ]
  },
  {
   "cell_type": "code",
   "execution_count": 3,
   "id": "8d888dce-8fb7-4629-aae2-b3b3004dcdb1",
   "metadata": {},
   "outputs": [
    {
     "data": {
      "text/plain": [
       "Timestamp('2020-01-01 00:00:00')"
      ]
     },
     "execution_count": 3,
     "metadata": {},
     "output_type": "execute_result"
    }
   ],
   "source": [
    "ts = pd.Timestamp(2020,1,1)\n",
    "ts"
   ]
  },
  {
   "cell_type": "code",
   "execution_count": 8,
   "id": "3839dd19-d0f5-4c2f-90a2-554d6915bc06",
   "metadata": {},
   "outputs": [
    {
     "data": {
      "text/plain": [
       "2020-01-01    0\n",
       "2020-01-03    1\n",
       "2020-01-05    2\n",
       "2020-01-07    3\n",
       "2020-01-09    4\n",
       "Freq: 2D, dtype: int32"
      ]
     },
     "execution_count": 8,
     "metadata": {},
     "output_type": "execute_result"
    }
   ],
   "source": [
    "dt_int = pd.date_range(start='2020-01-01', end='2020-01-10', freq='2D')\n",
    "s = pd.Series(np.arange(5), index = dt_int)\n",
    "s"
   ]
  },
  {
   "cell_type": "code",
   "execution_count": 9,
   "id": "1543fbc0-aec4-4bbe-8789-2efe68cf0cfa",
   "metadata": {},
   "outputs": [
    {
     "data": {
      "text/plain": [
       "2020-01-01    0.0\n",
       "2020-01-02    NaN\n",
       "2020-01-03    1.0\n",
       "2020-01-04    NaN\n",
       "2020-01-05    2.0\n",
       "2020-01-06    NaN\n",
       "2020-01-07    3.0\n",
       "2020-01-08    NaN\n",
       "2020-01-09    4.0\n",
       "Freq: D, dtype: float64"
      ]
     },
     "execution_count": 9,
     "metadata": {},
     "output_type": "execute_result"
    }
   ],
   "source": [
    "s.resample('1D').mean()"
   ]
  },
  {
   "cell_type": "code",
   "execution_count": 11,
   "id": "6ea95460-0c40-49db-8fb0-7e1d5328c543",
   "metadata": {},
   "outputs": [
    {
     "data": {
      "text/plain": [
       "Timestamp('2020-08-01 00:00:00')"
      ]
     },
     "execution_count": 11,
     "metadata": {},
     "output_type": "execute_result"
    }
   ],
   "source": [
    "pd.to_datetime('Aug 01 2020')"
   ]
  },
  {
   "cell_type": "code",
   "execution_count": 13,
   "id": "4cbc5ca9-0951-4171-9ca6-dd215e95f426",
   "metadata": {},
   "outputs": [
    {
     "data": {
      "text/plain": [
       "DatetimeIndex(['2020-01-01', '2020-01-06', '2020-01-07', '2020-01-08',\n",
       "               '2020-01-13', '2020-01-14', '2020-01-15', '2020-01-20',\n",
       "               '2020-01-21', '2020-01-22', '2020-01-27', '2020-01-28',\n",
       "               '2020-01-29'],\n",
       "              dtype='datetime64[ns]', freq='C')"
      ]
     },
     "execution_count": 13,
     "metadata": {},
     "output_type": "execute_result"
    }
   ],
   "source": [
    "week_mask = 'Mon Tue Wed'\n",
    "\n",
    "_ = pd.bdate_range('2020-01-01', '2020-01-30', freq='C', weekmask=week_mask)\n",
    "_"
   ]
  },
  {
   "cell_type": "code",
   "execution_count": 14,
   "id": "3dd3379c-a16b-4798-a3cf-fe25a2a4957d",
   "metadata": {},
   "outputs": [
    {
     "data": {
      "text/plain": [
       "Index([2, 0, 1, 2, 0, 1, 2, 0, 1, 2, 0, 1, 2], dtype='int32')"
      ]
     },
     "execution_count": 14,
     "metadata": {},
     "output_type": "execute_result"
    }
   ],
   "source": [
    "_.dayofweek"
   ]
  },
  {
   "cell_type": "code",
   "execution_count": 15,
   "id": "6bdd6e80-b8e2-4090-8bb5-26877c7ed0ae",
   "metadata": {},
   "outputs": [
    {
     "data": {
      "text/plain": [
       "Index(['Wednesday', 'Monday', 'Tuesday', 'Wednesday', 'Monday', 'Tuesday',\n",
       "       'Wednesday', 'Monday', 'Tuesday', 'Wednesday', 'Monday', 'Tuesday',\n",
       "       'Wednesday'],\n",
       "      dtype='object')"
      ]
     },
     "execution_count": 15,
     "metadata": {},
     "output_type": "execute_result"
    }
   ],
   "source": [
    "_.day_name()"
   ]
  },
  {
   "cell_type": "code",
   "execution_count": 19,
   "id": "4ae6939c-813e-4f1e-afd3-1d6aaab26585",
   "metadata": {},
   "outputs": [
    {
     "data": {
      "text/plain": [
       "Timedelta('10 days 00:00:00')"
      ]
     },
     "execution_count": 19,
     "metadata": {},
     "output_type": "execute_result"
    }
   ],
   "source": [
    "td = pd.Timedelta('10 days')\n",
    "td = pd.Timedelta(10, unit='d')\n",
    "td"
   ]
  },
  {
   "cell_type": "code",
   "execution_count": 21,
   "id": "9e8dc4ad-ac24-4166-9f58-548f41a6f527",
   "metadata": {},
   "outputs": [
    {
     "data": {
      "text/plain": [
       "Timedelta('10 days 02:20:00')"
      ]
     },
     "execution_count": 21,
     "metadata": {},
     "output_type": "execute_result"
    }
   ],
   "source": [
    "td = pd.Timedelta('10 days 2 hours 20 minutes')\n",
    "td"
   ]
  },
  {
   "cell_type": "code",
   "execution_count": 25,
   "id": "50e6925e-7f48-472e-81d1-df9cb7b76382",
   "metadata": {},
   "outputs": [
    {
     "data": {
      "text/plain": [
       "DatetimeIndex(['2019-12-25 21:40:00', '2020-01-01 21:40:00',\n",
       "               '2020-01-08 21:40:00', '2020-01-15 21:40:00',\n",
       "               '2020-01-22 21:40:00', '2020-01-29 21:40:00',\n",
       "               '2020-02-05 21:40:00', '2020-02-12 21:40:00',\n",
       "               '2020-02-19 21:40:00', '2020-02-26 21:40:00'],\n",
       "              dtype='datetime64[ns]', freq=None)"
      ]
     },
     "execution_count": 25,
     "metadata": {},
     "output_type": "execute_result"
    }
   ],
   "source": [
    "dt_int = pd.date_range(start='2020-01-01', end='2020-03-10', freq='W')\n",
    "dt_int - td"
   ]
  }
 ],
 "metadata": {
  "kernelspec": {
   "display_name": "Python 3 (ipykernel)",
   "language": "python",
   "name": "python3"
  },
  "language_info": {
   "codemirror_mode": {
    "name": "ipython",
    "version": 3
   },
   "file_extension": ".py",
   "mimetype": "text/x-python",
   "name": "python",
   "nbconvert_exporter": "python",
   "pygments_lexer": "ipython3",
   "version": "3.10.10"
  }
 },
 "nbformat": 4,
 "nbformat_minor": 5
}
