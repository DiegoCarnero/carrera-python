{
 "cells": [
  {
   "cell_type": "code",
   "execution_count": 1,
   "id": "34280ea8-fb3b-4dc0-84fd-07720cc47780",
   "metadata": {},
   "outputs": [],
   "source": [
    "import numpy as np\n",
    "import pandas as pd\n",
    "from pathlib import Path\n",
    "data_path = Path('./data')"
   ]
  },
  {
   "cell_type": "code",
   "execution_count": 2,
   "id": "946fbee3-96e3-43dc-b782-b339dfa774fa",
   "metadata": {},
   "outputs": [],
   "source": [
    "df = pd.read_csv('data/house.csv')"
   ]
  },
  {
   "cell_type": "code",
   "execution_count": null,
   "id": "0a15b3a9-c2d9-48c7-b57a-09f5f76032e1",
   "metadata": {},
   "outputs": [],
   "source": []
  }
 ],
 "metadata": {
  "kernelspec": {
   "display_name": "Python 3 (ipykernel)",
   "language": "python",
   "name": "python3"
  },
  "language_info": {
   "codemirror_mode": {
    "name": "ipython",
    "version": 3
   },
   "file_extension": ".py",
   "mimetype": "text/x-python",
   "name": "python",
   "nbconvert_exporter": "python",
   "pygments_lexer": "ipython3",
   "version": "3.10.10"
  }
 },
 "nbformat": 4,
 "nbformat_minor": 5
}
