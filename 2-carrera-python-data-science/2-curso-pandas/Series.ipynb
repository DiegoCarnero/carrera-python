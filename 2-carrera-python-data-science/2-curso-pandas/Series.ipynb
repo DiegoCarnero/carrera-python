{
 "cells": [
  {
   "cell_type": "code",
   "execution_count": 1,
   "id": "b4efebdd-cb7c-4d30-88ec-bb9bad50b6e7",
   "metadata": {},
   "outputs": [],
   "source": [
    "import pandas as pd\n",
    "import numpy as np"
   ]
  },
  {
   "cell_type": "code",
   "execution_count": 2,
   "id": "8b109191-ed23-4b4a-87ce-fb01407f8e5b",
   "metadata": {},
   "outputs": [
    {
     "data": {
      "text/plain": [
       "0    1\n",
       "1    2\n",
       "2    3\n",
       "3    4\n",
       "4    5\n",
       "dtype: int32"
      ]
     },
     "execution_count": 2,
     "metadata": {},
     "output_type": "execute_result"
    }
   ],
   "source": [
    "valores = np.array([1,2,3,4,5])\n",
    "serie = pd.Series(valores)\n",
    "serie"
   ]
  },
  {
   "cell_type": "code",
   "execution_count": 3,
   "id": "a49bd119-d979-4702-b078-972888d83878",
   "metadata": {},
   "outputs": [
    {
     "data": {
      "text/plain": [
       "RangeIndex(start=0, stop=5, step=1)"
      ]
     },
     "execution_count": 3,
     "metadata": {},
     "output_type": "execute_result"
    }
   ],
   "source": [
    "serie.index"
   ]
  },
  {
   "cell_type": "code",
   "execution_count": 6,
   "id": "f0989a0b-61a5-49e0-b8b4-1a4f9c2532cc",
   "metadata": {},
   "outputs": [
    {
     "data": {
      "text/plain": [
       "a    1\n",
       "b    2\n",
       "c    3\n",
       "d    4\n",
       "e    5\n",
       "dtype: int32"
      ]
     },
     "execution_count": 6,
     "metadata": {},
     "output_type": "execute_result"
    }
   ],
   "source": [
    "serie = pd.Series(valores, index = ['a','b','c','d','e'])\n",
    "serie"
   ]
  },
  {
   "cell_type": "code",
   "execution_count": 10,
   "id": "d2864d2b-f080-4256-9ca6-82ed8ecfc5b8",
   "metadata": {},
   "outputs": [
    {
     "data": {
      "text/plain": [
       "a    1\n",
       "b    2\n",
       "c    3\n",
       "d    4\n",
       "e    5\n",
       "dtype: int64"
      ]
     },
     "execution_count": 10,
     "metadata": {},
     "output_type": "execute_result"
    }
   ],
   "source": [
    "d = {'a':1,'b':2,'c':3,'d':4,'e':5}\n",
    "serie = pd.Series(d)\n",
    "serie"
   ]
  },
  {
   "cell_type": "code",
   "execution_count": 12,
   "id": "c50cafe0-5431-4806-a7af-55bfb2d8f6a6",
   "metadata": {},
   "outputs": [
    {
     "data": {
      "text/plain": [
       "b    2\n",
       "c    3\n",
       "a    1\n",
       "e    5\n",
       "d    4\n",
       "dtype: int64"
      ]
     },
     "execution_count": 12,
     "metadata": {},
     "output_type": "execute_result"
    }
   ],
   "source": [
    "serie = pd.Series(d, index = ['b','c','a','e','d'])\n",
    "serie"
   ]
  },
  {
   "cell_type": "code",
   "execution_count": 13,
   "id": "d23c5193-ec75-412d-b253-d9d0ffc68993",
   "metadata": {},
   "outputs": [
    {
     "data": {
      "text/plain": [
       "b     4\n",
       "c     9\n",
       "a     1\n",
       "e    25\n",
       "d    16\n",
       "dtype: int64"
      ]
     },
     "execution_count": 13,
     "metadata": {},
     "output_type": "execute_result"
    }
   ],
   "source": [
    "serie ** 2"
   ]
  },
  {
   "cell_type": "code",
   "execution_count": 19,
   "id": "ea971a85-9001-4ff3-89ea-f8a76edfc885",
   "metadata": {},
   "outputs": [
    {
     "data": {
      "text/plain": [
       "b    7\n",
       "c    8\n",
       "a    6\n",
       "d    0\n",
       "e    0\n",
       "f    9\n",
       "dtype: int32"
      ]
     },
     "execution_count": 19,
     "metadata": {},
     "output_type": "execute_result"
    }
   ],
   "source": [
    "serie2 = pd.Series(np.random.randint(0,10,6),index = ['b','c','a','d','e','f'])\n",
    "serie2"
   ]
  },
  {
   "cell_type": "code",
   "execution_count": 20,
   "id": "7406aad3-ab89-498f-ad78-6b9951156ed9",
   "metadata": {},
   "outputs": [
    {
     "data": {
      "text/plain": [
       "a     7.0\n",
       "b     9.0\n",
       "c    11.0\n",
       "d     4.0\n",
       "e     5.0\n",
       "f     NaN\n",
       "dtype: float64"
      ]
     },
     "execution_count": 20,
     "metadata": {},
     "output_type": "execute_result"
    }
   ],
   "source": [
    "serie + serie2"
   ]
  },
  {
   "cell_type": "code",
   "execution_count": null,
   "id": "330a1f97-a6d4-43e0-85be-9773f26ae6d3",
   "metadata": {},
   "outputs": [],
   "source": []
  }
 ],
 "metadata": {
  "kernelspec": {
   "display_name": "Python 3 (ipykernel)",
   "language": "python",
   "name": "python3"
  },
  "language_info": {
   "codemirror_mode": {
    "name": "ipython",
    "version": 3
   },
   "file_extension": ".py",
   "mimetype": "text/x-python",
   "name": "python",
   "nbconvert_exporter": "python",
   "pygments_lexer": "ipython3",
   "version": "3.10.10"
  }
 },
 "nbformat": 4,
 "nbformat_minor": 5
}
